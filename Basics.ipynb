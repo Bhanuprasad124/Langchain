{
 "cells": [
  {
   "cell_type": "code",
   "execution_count": 3,
   "metadata": {},
   "outputs": [],
   "source": [
    "from dotenv import load_dotenv,find_dotenv\n",
    "from transformers import  pipeline"
   ]
  },
  {
   "cell_type": "code",
   "execution_count": 42,
   "metadata": {},
   "outputs": [],
   "source": [
    "import os\n",
    "HUGGINGFACEHUB_TOKEN=os.getenv(\"HUGGINGFACEHUB_TOKEN\")"
   ]
  },
  {
   "cell_type": "code",
   "execution_count": 4,
   "metadata": {},
   "outputs": [
    {
     "data": {
      "text/plain": [
       "True"
      ]
     },
     "execution_count": 4,
     "metadata": {},
     "output_type": "execute_result"
    }
   ],
   "source": [
    "load_dotenv(find_dotenv())"
   ]
  },
  {
   "cell_type": "code",
   "execution_count": 5,
   "metadata": {},
   "outputs": [
    {
     "name": "stderr",
     "output_type": "stream",
     "text": [
      "Device set to use cpu\n"
     ]
    }
   ],
   "source": [
    "image_2_text = pipeline(\"image-to-text\", model='Salesforce/blip-image-captioning-base')\n"
   ]
  },
  {
   "cell_type": "code",
   "execution_count": 6,
   "metadata": {},
   "outputs": [],
   "source": [
    "text=image_2_text('manky-7.jpg')[0]['generated_text']"
   ]
  },
  {
   "cell_type": "code",
   "execution_count": 7,
   "metadata": {},
   "outputs": [
    {
     "name": "stdout",
     "output_type": "stream",
     "text": [
      "a man in an orange outfit holding a ball\n"
     ]
    }
   ],
   "source": [
    "print(text)"
   ]
  },
  {
   "cell_type": "code",
   "execution_count": 8,
   "metadata": {},
   "outputs": [
    {
     "data": {
      "text/plain": [
       "'a man in an orange outfit holding a ball'"
      ]
     },
     "execution_count": 8,
     "metadata": {},
     "output_type": "execute_result"
    }
   ],
   "source": [
    "text"
   ]
  },
  {
   "cell_type": "code",
   "execution_count": null,
   "metadata": {},
   "outputs": [],
   "source": [
    "import requests\n",
    "def txt2spch(text):\n",
    "    API_URL = \"https://api-inference.huggingface.co/models/hexgrad/Kokoro-82M\"\n",
    "    headers = {\"Authorization\": \"Bearer {HUGGINGFACEHUB_TOKEN}\"}\n",
    "\n",
    "    payloads={\n",
    "        \"inputs\": text,\n",
    "    }\n",
    "        \n",
    "    response = requests.post(API_URL, headers=headers, json=payloads)\n",
    "    with open(\"response.flac\", \"wb\") as f:\n",
    "        f.write(response.content)\n"
   ]
  },
  {
   "cell_type": "code",
   "execution_count": 4,
   "metadata": {},
   "outputs": [
    {
     "name": "stdout",
     "output_type": "stream",
     "text": [
      "There are four people standing on a boat, gently swaying to the rhythm of the waves as the sun sets over the horizon. The sky is painted with hues of orange, pink, and purple, a breathtaking sight that seems to mesmerize each of them.\n",
      "\n",
      "To the left stands Emily, a young and ambitious journalist, her eyes fixed on the horizon as she scribbles notes in her journal. She's on a mission to write a story about the effects of climate change on the marine ecosystem, and this boat trip is her chance to gather firsthand information. Her long, curly brown hair is tied back in a ponytail, and her bright green eyes sparkle with determination.\n",
      "\n",
      "Next to Emily stands Jack, a rugged and seasoned sailor with a bushy beard and a warm smile. He's been sailing these waters for over two decades and knows them like the back of his hand. His eyes are a deep blue, and his weathered skin tells the story of a life spent under the sun and the sea. He's the captain of the boat, and his presence exudes a sense of calm and authority.\n",
      "\n",
      "On the other side of the boat stands Sarah, a marine biologist with a passion for conservation. She's dressed in a white lab coat, and her short, blonde hair is tucked back under a cap. Her eyes are a bright, piercing blue, and her smile is warm and friendly. She's on the boat to collect samples of marine life and study the impact of human activity on the ocean's ecosystem.\n",
      "\n",
      "Finally, there's Alex, a free-spirited photographer with a camera slung over his shoulder. His dark hair is messy and unkempt, and his eyes are a deep, soulful brown. He's on the boat to capture the beauty of the ocean and its inhabitants, and his lens is always on the lookout for the perfect shot. He's quiet and observant, taking in the scene around him with a sense of wonder and awe.\n",
      "\n",
      "As the four of them stand on the boat, they're each lost in their own thoughts and pursuits. But as the sun dips lower in the sky, they begin to notice the beauty of the moment they're sharing. The sea is calm, the air is filled with the sweet scent of saltwater, and the sky is ablaze with color.\n",
      "\n",
      "Emily looks up from her journal and catches Jack's eye, smiling in appreciation of the peacefulness of the moment. Jack nods in response, his eyes crinkling at the corners as he smiles back. Sarah glances over at Alex, who's busy snapping photos of the sunset, and they exchange a warm smile. Alex looks up, catches Emily's eye, and raises his camera in a silent gesture of appreciation for the beauty of the scene.\n",
      "\n",
      "As the sun dips below the horizon, the four of them stand together in comfortable silence, taking in the majesty of the ocean and the sky. They're strangers, each with their own story and purpose, but in this moment, they're connected by a shared sense of wonder and awe. And as the stars begin to twinkle in the night sky, they know that this is a moment they'll never forget, a moment that will stay with them long after they leave the boat and return to their separate lives.\n"
     ]
    }
   ],
   "source": [
    "from langchain_groq import ChatGroq\n",
    "\n",
    "llm = ChatGroq(\n",
    "    temperature=0, \n",
    "    groq_api_key='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', \n",
    "    model_name=\"llama-3.1-70b-versatile\"\n",
    ")\n",
    "\n",
    "response = llm.invoke(\"write a story on the below line\"\n",
    "                      \"there are four people standing ona boat ...\")\n",
    "print(response.content)"
   ]
  },
  {
   "cell_type": "code",
   "execution_count": null,
   "metadata": {},
   "outputs": [],
   "source": []
  }
 ],
 "metadata": {
  "kernelspec": {
   "display_name": "genenv",
   "language": "python",
   "name": "python3"
  },
  "language_info": {
   "codemirror_mode": {
    "name": "ipython",
    "version": 3
   },
   "file_extension": ".py",
   "mimetype": "text/x-python",
   "name": "python",
   "nbconvert_exporter": "python",
   "pygments_lexer": "ipython3",
   "version": "3.12.4"
  }
 },
 "nbformat": 4,
 "nbformat_minor": 2
}
